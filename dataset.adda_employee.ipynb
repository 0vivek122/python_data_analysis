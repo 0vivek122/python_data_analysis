{
 "cells": [
  {
   "cell_type": "code",
   "execution_count": 1,
   "id": "bf70b16e",
   "metadata": {},
   "outputs": [],
   "source": [
    "import pandas as p "
   ]
  },
  {
   "cell_type": "code",
   "execution_count": 2,
   "id": "59b30320",
   "metadata": {},
   "outputs": [],
   "source": [
    "#reading the csv file\n",
    "d = p.read_csv(\"AgentPerformance.csv\")"
   ]
  },
  {
   "cell_type": "code",
   "execution_count": 3,
   "id": "a26de3e5",
   "metadata": {},
   "outputs": [
    {
     "data": {
      "text/plain": [
       "SL No                        int64\n",
       "Date                        object\n",
       "Agent Name                  object\n",
       "Total Chats                  int64\n",
       "Average Response Time       object\n",
       "Average Resolution Time     object\n",
       "Average Rating             float64\n",
       "Total Feedback               int64\n",
       "dtype: object"
      ]
     },
     "execution_count": 3,
     "metadata": {},
     "output_type": "execute_result"
    }
   ],
   "source": [
    "d.dtypes"
   ]
  },
  {
   "cell_type": "code",
   "execution_count": 4,
   "id": "79e4cd47",
   "metadata": {},
   "outputs": [
    {
     "data": {
      "text/plain": [
       "'First we have to convert the data type into data so we can define dates into weekly basis'"
      ]
     },
     "execution_count": 4,
     "metadata": {},
     "output_type": "execute_result"
    }
   ],
   "source": [
    "#Find out there avarage rating on weekly basis keep this in a mind that they take two days of leave.\n",
    "\"\"\"First we have to convert the data type into data so we can define dates into weekly basis\"\"\""
   ]
  },
  {
   "cell_type": "code",
   "execution_count": 5,
   "id": "44ecfeb2",
   "metadata": {},
   "outputs": [],
   "source": [
    "d['Date'] = p.to_datetime(d['Date']) #converted into timestrap"
   ]
  },
  {
   "cell_type": "code",
   "execution_count": 6,
   "id": "cecb690c",
   "metadata": {},
   "outputs": [
    {
     "data": {
      "text/plain": [
       "0      2022-07-30\n",
       "1      2022-07-30\n",
       "2      2022-07-30\n",
       "3      2022-07-30\n",
       "4      2022-07-30\n",
       "          ...    \n",
       "2155   2022-07-01\n",
       "2156   2022-07-01\n",
       "2157   2022-07-01\n",
       "2158   2022-07-01\n",
       "2159   2022-07-01\n",
       "Name: Date, Length: 2160, dtype: datetime64[ns]"
      ]
     },
     "execution_count": 6,
     "metadata": {},
     "output_type": "execute_result"
    }
   ],
   "source": [
    "d['Date']"
   ]
  },
  {
   "cell_type": "code",
   "execution_count": 7,
   "id": "02b08752",
   "metadata": {},
   "outputs": [
    {
     "name": "stderr",
     "output_type": "stream",
     "text": [
      "C:\\Users\\laptop\\AppData\\Local\\Temp/ipykernel_4356/225351574.py:1: FutureWarning: Series.dt.weekofyear and Series.dt.week have been deprecated.  Please use Series.dt.isocalendar().week instead.\n",
      "  d['weeks'] =d['Date'].dt.weekofyear #making new column\n"
     ]
    }
   ],
   "source": [
    "d['weeks'] =d['Date'].dt.weekofyear #making new column"
   ]
  },
  {
   "cell_type": "code",
   "execution_count": 8,
   "id": "1ff4bd3f",
   "metadata": {},
   "outputs": [
    {
     "data": {
      "text/html": [
       "<div>\n",
       "<style scoped>\n",
       "    .dataframe tbody tr th:only-of-type {\n",
       "        vertical-align: middle;\n",
       "    }\n",
       "\n",
       "    .dataframe tbody tr th {\n",
       "        vertical-align: top;\n",
       "    }\n",
       "\n",
       "    .dataframe thead th {\n",
       "        text-align: right;\n",
       "    }\n",
       "</style>\n",
       "<table border=\"1\" class=\"dataframe\">\n",
       "  <thead>\n",
       "    <tr style=\"text-align: right;\">\n",
       "      <th></th>\n",
       "      <th>SL No</th>\n",
       "      <th>Date</th>\n",
       "      <th>Agent Name</th>\n",
       "      <th>Total Chats</th>\n",
       "      <th>Average Response Time</th>\n",
       "      <th>Average Resolution Time</th>\n",
       "      <th>Average Rating</th>\n",
       "      <th>Total Feedback</th>\n",
       "      <th>weeks</th>\n",
       "    </tr>\n",
       "  </thead>\n",
       "  <tbody>\n",
       "    <tr>\n",
       "      <th>0</th>\n",
       "      <td>1</td>\n",
       "      <td>2022-07-30</td>\n",
       "      <td>Prerna Singh</td>\n",
       "      <td>11</td>\n",
       "      <td>0:00:38</td>\n",
       "      <td>0:04:20</td>\n",
       "      <td>4.11</td>\n",
       "      <td>9</td>\n",
       "      <td>30</td>\n",
       "    </tr>\n",
       "    <tr>\n",
       "      <th>1</th>\n",
       "      <td>2</td>\n",
       "      <td>2022-07-30</td>\n",
       "      <td>Nandani Gupta</td>\n",
       "      <td>11</td>\n",
       "      <td>0:01:15</td>\n",
       "      <td>0:28:25</td>\n",
       "      <td>3.14</td>\n",
       "      <td>7</td>\n",
       "      <td>30</td>\n",
       "    </tr>\n",
       "    <tr>\n",
       "      <th>2</th>\n",
       "      <td>3</td>\n",
       "      <td>2022-07-30</td>\n",
       "      <td>Ameya Jain</td>\n",
       "      <td>14</td>\n",
       "      <td>0:00:30</td>\n",
       "      <td>0:11:36</td>\n",
       "      <td>4.55</td>\n",
       "      <td>11</td>\n",
       "      <td>30</td>\n",
       "    </tr>\n",
       "    <tr>\n",
       "      <th>3</th>\n",
       "      <td>4</td>\n",
       "      <td>2022-07-30</td>\n",
       "      <td>Mahesh Sarade</td>\n",
       "      <td>14</td>\n",
       "      <td>0:01:04</td>\n",
       "      <td>0:15:46</td>\n",
       "      <td>4.71</td>\n",
       "      <td>7</td>\n",
       "      <td>30</td>\n",
       "    </tr>\n",
       "    <tr>\n",
       "      <th>4</th>\n",
       "      <td>5</td>\n",
       "      <td>2022-07-30</td>\n",
       "      <td>Swati</td>\n",
       "      <td>14</td>\n",
       "      <td>0:01:11</td>\n",
       "      <td>0:16:33</td>\n",
       "      <td>3.67</td>\n",
       "      <td>6</td>\n",
       "      <td>30</td>\n",
       "    </tr>\n",
       "    <tr>\n",
       "      <th>...</th>\n",
       "      <td>...</td>\n",
       "      <td>...</td>\n",
       "      <td>...</td>\n",
       "      <td>...</td>\n",
       "      <td>...</td>\n",
       "      <td>...</td>\n",
       "      <td>...</td>\n",
       "      <td>...</td>\n",
       "      <td>...</td>\n",
       "    </tr>\n",
       "    <tr>\n",
       "      <th>2155</th>\n",
       "      <td>2156</td>\n",
       "      <td>2022-07-01</td>\n",
       "      <td>Sowmiya Sivakumar</td>\n",
       "      <td>0</td>\n",
       "      <td>0:00:00</td>\n",
       "      <td>0:00:00</td>\n",
       "      <td>0.00</td>\n",
       "      <td>0</td>\n",
       "      <td>26</td>\n",
       "    </tr>\n",
       "    <tr>\n",
       "      <th>2156</th>\n",
       "      <td>2157</td>\n",
       "      <td>2022-07-01</td>\n",
       "      <td>Nitin M</td>\n",
       "      <td>0</td>\n",
       "      <td>0:00:00</td>\n",
       "      <td>0:00:00</td>\n",
       "      <td>0.00</td>\n",
       "      <td>0</td>\n",
       "      <td>26</td>\n",
       "    </tr>\n",
       "    <tr>\n",
       "      <th>2157</th>\n",
       "      <td>2158</td>\n",
       "      <td>2022-07-01</td>\n",
       "      <td>Vivek</td>\n",
       "      <td>0</td>\n",
       "      <td>0:00:00</td>\n",
       "      <td>0:00:00</td>\n",
       "      <td>0.00</td>\n",
       "      <td>0</td>\n",
       "      <td>26</td>\n",
       "    </tr>\n",
       "    <tr>\n",
       "      <th>2158</th>\n",
       "      <td>2159</td>\n",
       "      <td>2022-07-01</td>\n",
       "      <td>Ayushi Mishra</td>\n",
       "      <td>0</td>\n",
       "      <td>0:00:00</td>\n",
       "      <td>0:00:00</td>\n",
       "      <td>0.00</td>\n",
       "      <td>0</td>\n",
       "      <td>26</td>\n",
       "    </tr>\n",
       "    <tr>\n",
       "      <th>2159</th>\n",
       "      <td>2160</td>\n",
       "      <td>2022-07-01</td>\n",
       "      <td>Chaitra K Hiremath</td>\n",
       "      <td>0</td>\n",
       "      <td>0:00:00</td>\n",
       "      <td>0:00:00</td>\n",
       "      <td>0.00</td>\n",
       "      <td>0</td>\n",
       "      <td>26</td>\n",
       "    </tr>\n",
       "  </tbody>\n",
       "</table>\n",
       "<p>2160 rows × 9 columns</p>\n",
       "</div>"
      ],
      "text/plain": [
       "      SL No       Date          Agent Name  Total Chats Average Response Time  \\\n",
       "0         1 2022-07-30        Prerna Singh           11               0:00:38   \n",
       "1         2 2022-07-30       Nandani Gupta           11               0:01:15   \n",
       "2         3 2022-07-30          Ameya Jain           14               0:00:30   \n",
       "3         4 2022-07-30       Mahesh Sarade           14               0:01:04   \n",
       "4         5 2022-07-30              Swati            14               0:01:11   \n",
       "...     ...        ...                 ...          ...                   ...   \n",
       "2155   2156 2022-07-01   Sowmiya Sivakumar            0               0:00:00   \n",
       "2156   2157 2022-07-01             Nitin M            0               0:00:00   \n",
       "2157   2158 2022-07-01              Vivek             0               0:00:00   \n",
       "2158   2159 2022-07-01       Ayushi Mishra            0               0:00:00   \n",
       "2159   2160 2022-07-01  Chaitra K Hiremath            0               0:00:00   \n",
       "\n",
       "     Average Resolution Time  Average Rating  Total Feedback  weeks  \n",
       "0                    0:04:20            4.11               9     30  \n",
       "1                    0:28:25            3.14               7     30  \n",
       "2                    0:11:36            4.55              11     30  \n",
       "3                    0:15:46            4.71               7     30  \n",
       "4                    0:16:33            3.67               6     30  \n",
       "...                      ...             ...             ...    ...  \n",
       "2155                 0:00:00            0.00               0     26  \n",
       "2156                 0:00:00            0.00               0     26  \n",
       "2157                 0:00:00            0.00               0     26  \n",
       "2158                 0:00:00            0.00               0     26  \n",
       "2159                 0:00:00            0.00               0     26  \n",
       "\n",
       "[2160 rows x 9 columns]"
      ]
     },
     "execution_count": 8,
     "metadata": {},
     "output_type": "execute_result"
    }
   ],
   "source": [
    "d"
   ]
  },
  {
   "cell_type": "code",
   "execution_count": 9,
   "id": "4d9ca238",
   "metadata": {},
   "outputs": [
    {
     "data": {
      "text/plain": [
       "weeks  Agent Name   \n",
       "26     Abhishek         0.000000\n",
       "       Aditya           0.000000\n",
       "       Aditya Shinde    2.566667\n",
       "       Aditya_iot       0.000000\n",
       "       Amersh           0.000000\n",
       "                          ...   \n",
       "30     Uday Mishra      0.000000\n",
       "       Vasanth P        0.000000\n",
       "       Vivek            0.000000\n",
       "       Wasim            3.581667\n",
       "       Zeeshan          2.760000\n",
       "Name: Average Rating, Length: 350, dtype: float64"
      ]
     },
     "execution_count": 9,
     "metadata": {},
     "output_type": "execute_result"
    }
   ],
   "source": [
    "d.groupby(['weeks','Agent Name'])['Average Rating'].mean()"
   ]
  },
  {
   "cell_type": "code",
   "execution_count": 10,
   "id": "f7832494",
   "metadata": {},
   "outputs": [
    {
     "data": {
      "text/html": [
       "<div>\n",
       "<style scoped>\n",
       "    .dataframe tbody tr th:only-of-type {\n",
       "        vertical-align: middle;\n",
       "    }\n",
       "\n",
       "    .dataframe tbody tr th {\n",
       "        vertical-align: top;\n",
       "    }\n",
       "\n",
       "    .dataframe thead th {\n",
       "        text-align: right;\n",
       "    }\n",
       "</style>\n",
       "<table border=\"1\" class=\"dataframe\">\n",
       "  <thead>\n",
       "    <tr style=\"text-align: right;\">\n",
       "      <th></th>\n",
       "      <th>SL No</th>\n",
       "      <th>Date</th>\n",
       "      <th>Agent Name</th>\n",
       "      <th>Total Chats</th>\n",
       "      <th>Average Response Time</th>\n",
       "      <th>Average Resolution Time</th>\n",
       "      <th>Average Rating</th>\n",
       "      <th>Total Feedback</th>\n",
       "      <th>weeks</th>\n",
       "    </tr>\n",
       "  </thead>\n",
       "  <tbody>\n",
       "    <tr>\n",
       "      <th>0</th>\n",
       "      <td>1</td>\n",
       "      <td>2022-07-30</td>\n",
       "      <td>Prerna Singh</td>\n",
       "      <td>11</td>\n",
       "      <td>0:00:38</td>\n",
       "      <td>0:04:20</td>\n",
       "      <td>4.11</td>\n",
       "      <td>9</td>\n",
       "      <td>30</td>\n",
       "    </tr>\n",
       "    <tr>\n",
       "      <th>1</th>\n",
       "      <td>2</td>\n",
       "      <td>2022-07-30</td>\n",
       "      <td>Nandani Gupta</td>\n",
       "      <td>11</td>\n",
       "      <td>0:01:15</td>\n",
       "      <td>0:28:25</td>\n",
       "      <td>3.14</td>\n",
       "      <td>7</td>\n",
       "      <td>30</td>\n",
       "    </tr>\n",
       "    <tr>\n",
       "      <th>2</th>\n",
       "      <td>3</td>\n",
       "      <td>2022-07-30</td>\n",
       "      <td>Ameya Jain</td>\n",
       "      <td>14</td>\n",
       "      <td>0:00:30</td>\n",
       "      <td>0:11:36</td>\n",
       "      <td>4.55</td>\n",
       "      <td>11</td>\n",
       "      <td>30</td>\n",
       "    </tr>\n",
       "    <tr>\n",
       "      <th>3</th>\n",
       "      <td>4</td>\n",
       "      <td>2022-07-30</td>\n",
       "      <td>Mahesh Sarade</td>\n",
       "      <td>14</td>\n",
       "      <td>0:01:04</td>\n",
       "      <td>0:15:46</td>\n",
       "      <td>4.71</td>\n",
       "      <td>7</td>\n",
       "      <td>30</td>\n",
       "    </tr>\n",
       "    <tr>\n",
       "      <th>4</th>\n",
       "      <td>5</td>\n",
       "      <td>2022-07-30</td>\n",
       "      <td>Swati</td>\n",
       "      <td>14</td>\n",
       "      <td>0:01:11</td>\n",
       "      <td>0:16:33</td>\n",
       "      <td>3.67</td>\n",
       "      <td>6</td>\n",
       "      <td>30</td>\n",
       "    </tr>\n",
       "  </tbody>\n",
       "</table>\n",
       "</div>"
      ],
      "text/plain": [
       "   SL No       Date     Agent Name  Total Chats Average Response Time  \\\n",
       "0      1 2022-07-30   Prerna Singh           11               0:00:38   \n",
       "1      2 2022-07-30  Nandani Gupta           11               0:01:15   \n",
       "2      3 2022-07-30     Ameya Jain           14               0:00:30   \n",
       "3      4 2022-07-30  Mahesh Sarade           14               0:01:04   \n",
       "4      5 2022-07-30         Swati            14               0:01:11   \n",
       "\n",
       "  Average Resolution Time  Average Rating  Total Feedback  weeks  \n",
       "0                 0:04:20            4.11               9     30  \n",
       "1                 0:28:25            3.14               7     30  \n",
       "2                 0:11:36            4.55              11     30  \n",
       "3                 0:15:46            4.71               7     30  \n",
       "4                 0:16:33            3.67               6     30  "
      ]
     },
     "execution_count": 10,
     "metadata": {},
     "output_type": "execute_result"
    }
   ],
   "source": [
    "#Total working days for each agents\n",
    "d.head()"
   ]
  },
  {
   "cell_type": "code",
   "execution_count": 11,
   "id": "587209b2",
   "metadata": {},
   "outputs": [
    {
     "name": "stdout",
     "output_type": "stream",
     "text": [
      "Aditya Shinde : 12\n",
      "Aditya_iot  : 17\n",
      "Ameya Jain : 15\n",
      "Anirudh  : 7\n",
      "Ankitjha  : 3\n",
      "Anurag Tiwari : 2\n",
      "Aravind  : 14\n",
      "Ashad Nasim : 2\n",
      "Ayushi Mishra : 24\n",
      "Bharath  : 19\n",
      "Boktiar Ahmed Bappy : 26\n",
      "Chaitra K Hiremath : 6\n",
      "Deepranjan Gupta : 21\n",
      "Dibyanshu  : 1\n",
      "Harikrishnan Shaji : 19\n",
      "Hitesh Choudhary : 1\n",
      "Hrisikesh Neogi : 21\n",
      "Ishawant Kumar : 24\n",
      "Jawala Prakash : 25\n",
      "Jayant Kumar : 8\n",
      "Jaydeep Dixit : 21\n",
      "Khushboo Priya : 26\n",
      "Madhulika G : 24\n",
      "Mahak  : 1\n",
      "Mahesh Sarade : 18\n",
      "Maitry  : 20\n",
      "Maneesh  : 3\n",
      "Manjunatha A : 25\n",
      "Mithun S : 18\n",
      "Mukesh  : 2\n",
      "Mukesh Rao  : 3\n",
      "Muskan Garg : 5\n",
      "Nandani Gupta : 21\n",
      "Nishtha Jain : 23\n",
      "Prabir Kumar Satapathy : 17\n",
      "Prateek _iot  : 17\n",
      "Prerna Singh : 22\n",
      "Rishav Dash : 21\n",
      "Saikumarreddy N : 13\n",
      "Samprit  : 1\n",
      "Sandipan Saha : 3\n",
      "Sanjeev Kumar : 23\n",
      "Saurabh Shukla : 4\n",
      "Shiva Srivastava : 7\n",
      "Shivan K : 22\n",
      "Shivan_S  : 1\n",
      "Shivananda Sonwane : 28\n",
      "Shubham Sharma : 21\n",
      "Sowmiya Sivakumar : 9\n",
      "Sudhanshu Kumar : 2\n",
      "Suraj S Bilgi : 2\n",
      "Swati  : 17\n",
      "Tarun  : 1\n",
      "Vivek  : 5\n",
      "Wasim  : 16\n",
      "Zeeshan  : 16\n"
     ]
    }
   ],
   "source": [
    "h= d[d['Total Chats'] != 0] #filtering those row in which their chat\n",
    "t=dict( h.groupby(['Agent Name']).Date.unique())\n",
    "for i in t:\n",
    "    j=0\n",
    "    for u in t[i]:\n",
    "        j=j+1\n",
    "    print(f'{i} : {j}')"
   ]
  },
  {
   "cell_type": "code",
   "execution_count": 12,
   "id": "a3dbfb90",
   "metadata": {},
   "outputs": [],
   "source": [
    "#Total query that you hvae taken"
   ]
  },
  {
   "cell_type": "code",
   "execution_count": 13,
   "id": "49ba41c8",
   "metadata": {},
   "outputs": [
    {
     "data": {
      "text/plain": [
       "Agent Name\n",
       "Aditya Shinde             12\n",
       "Aditya_iot                17\n",
       "Ameya Jain                15\n",
       "Anirudh                    7\n",
       "Ankitjha                   3\n",
       "Anurag Tiwari              2\n",
       "Aravind                   14\n",
       "Ashad Nasim                2\n",
       "Ayushi Mishra             24\n",
       "Bharath                   19\n",
       "Boktiar Ahmed Bappy       26\n",
       "Chaitra K Hiremath         6\n",
       "Deepranjan Gupta          21\n",
       "Dibyanshu                  1\n",
       "Harikrishnan Shaji        19\n",
       "Hitesh Choudhary           1\n",
       "Hrisikesh Neogi           21\n",
       "Ishawant Kumar            24\n",
       "Jawala Prakash            25\n",
       "Jayant Kumar               8\n",
       "Jaydeep Dixit             21\n",
       "Khushboo Priya            26\n",
       "Madhulika G               24\n",
       "Mahak                      1\n",
       "Mahesh Sarade             18\n",
       "Maitry                    20\n",
       "Maneesh                    3\n",
       "Manjunatha A              25\n",
       "Mithun S                  18\n",
       "Mukesh                     2\n",
       "Mukesh Rao                 3\n",
       "Muskan Garg                5\n",
       "Nandani Gupta             21\n",
       "Nishtha Jain              23\n",
       "Prabir Kumar Satapathy    17\n",
       "Prateek _iot              17\n",
       "Prerna Singh              22\n",
       "Rishav Dash               21\n",
       "Saikumarreddy N           13\n",
       "Samprit                    1\n",
       "Sandipan Saha              3\n",
       "Sanjeev Kumar             23\n",
       "Saurabh Shukla             4\n",
       "Shiva Srivastava           7\n",
       "Shivan K                  22\n",
       "Shivan_S                   1\n",
       "Shivananda Sonwane        28\n",
       "Shubham Sharma            21\n",
       "Sowmiya Sivakumar          9\n",
       "Sudhanshu Kumar            2\n",
       "Suraj S Bilgi              2\n",
       "Swati                     17\n",
       "Tarun                      1\n",
       "Vivek                      5\n",
       "Wasim                     16\n",
       "Zeeshan                   16\n",
       "Name: Date, dtype: int64"
      ]
     },
     "execution_count": 13,
     "metadata": {},
     "output_type": "execute_result"
    }
   ],
   "source": [
    "h #this dataframe without where there is no total chats\n",
    "h.groupby('Agent Name')['Date'].count()"
   ]
  },
  {
   "cell_type": "code",
   "execution_count": 14,
   "id": "311a58c8",
   "metadata": {},
   "outputs": [
    {
     "data": {
      "text/plain": [
       "Agent Name\n",
       "Aditya Shinde             153\n",
       "Aditya_iot                131\n",
       "Ameya Jain                228\n",
       "Anirudh                    39\n",
       "Ankitjha                    3\n",
       "Anurag Tiwari               3\n",
       "Aravind                   233\n",
       "Ashad Nasim                 9\n",
       "Ayushi Mishra             329\n",
       "Bharath                   247\n",
       "Boktiar Ahmed Bappy       311\n",
       "Chaitra K Hiremath         37\n",
       "Deepranjan Gupta          312\n",
       "Harikrishnan Shaji        231\n",
       "Hrisikesh Neogi           367\n",
       "Ishawant Kumar            202\n",
       "Jawala Prakash            250\n",
       "Jayant Kumar               70\n",
       "Jaydeep Dixit             305\n",
       "Khushboo Priya            289\n",
       "Madhulika G               281\n",
       "Mahak                       5\n",
       "Mahesh Sarade             216\n",
       "Maitry                    347\n",
       "Maneesh                     3\n",
       "Manjunatha A              254\n",
       "Mithun S                  364\n",
       "Mukesh                     17\n",
       "Mukesh Rao                  5\n",
       "Muskan Garg                37\n",
       "Nandani Gupta             308\n",
       "Nishtha Jain              257\n",
       "Prabir Kumar Satapathy    222\n",
       "Prateek _iot              107\n",
       "Prerna Singh              235\n",
       "Rishav Dash               264\n",
       "Saikumarreddy N           290\n",
       "Sandipan Saha              18\n",
       "Sanjeev Kumar             311\n",
       "Saurabh Shukla              8\n",
       "Shiva Srivastava           46\n",
       "Shivan K                  243\n",
       "Shivan_S                    4\n",
       "Shivananda Sonwane        263\n",
       "Shubham Sharma            300\n",
       "Sowmiya Sivakumar         141\n",
       "Sudhanshu Kumar             2\n",
       "Suraj S Bilgi              15\n",
       "Swati                     302\n",
       "Tarun                       6\n",
       "Vivek                      20\n",
       "Wasim                     284\n",
       "Zeeshan                   335\n",
       "Name: Total Feedback, dtype: int64"
      ]
     },
     "execution_count": 14,
     "metadata": {},
     "output_type": "execute_result"
    }
   ],
   "source": [
    "#total Feedback that you have received \n",
    "d[d['Total Feedback']!=0].groupby('Agent Name')['Total Feedback'].sum()\n",
    "        "
   ]
  },
  {
   "cell_type": "code",
   "execution_count": 15,
   "id": "a7155a30",
   "metadata": {},
   "outputs": [
    {
     "data": {
      "text/plain": [
       "array(['Swati ', 'Manjunatha A', 'Prateek _iot ', 'Nandani Gupta',\n",
       "       'Jaydeep Dixit', 'Mahesh Sarade', 'Zeeshan ', 'Hrisikesh Neogi',\n",
       "       'Khushboo Priya', 'Wasim ', 'Jawala Prakash', 'Nishtha Jain',\n",
       "       'Prerna Singh', 'Boktiar Ahmed Bappy', 'Muskan Garg',\n",
       "       'Harikrishnan Shaji', 'Deepranjan Gupta', 'Shivan K',\n",
       "       'Madhulika G', 'Rishav Dash', 'Maitry ', 'Mithun S', 'Aditya_iot ',\n",
       "       'Ishawant Kumar', 'Ayushi Mishra', 'Shivananda Sonwane',\n",
       "       'Sandipan Saha', 'Anirudh ', 'Jayant Kumar', 'Saurabh Shukla',\n",
       "       'Aditya Shinde'], dtype=object)"
      ]
     },
     "execution_count": 15,
     "metadata": {},
     "output_type": "execute_result"
    }
   ],
   "source": [
    "# a agent name who have average rating between 3.5 to 4\n",
    "d[(d['Average Rating'] >3.5) & (d['Average Rating']<4)]['Agent Name'].unique()"
   ]
  },
  {
   "cell_type": "code",
   "execution_count": 16,
   "id": "4e95efd2",
   "metadata": {},
   "outputs": [
    {
     "data": {
      "text/plain": [
       "array(['Nandani Gupta', 'Hitesh Choudhary', 'Sanjeevan ', 'Anirudh ',\n",
       "       'Shiva Srivastava', 'Dibyanshu ', 'Ashish ', 'Uday Mishra',\n",
       "       'Aditya Shinde', 'Jayant Kumar', 'Aditya_iot ',\n",
       "       'Prabir Kumar Satapathy', 'Saurabh Shukla', 'Wasim ', 'Samprit ',\n",
       "       'Maitry ', 'Abhishek ', 'Rishav Dash', 'Aravind ', 'Tarun ',\n",
       "       'Muskan Garg', 'Ankit Sharma', 'Bharath ', 'Ashad Nasim',\n",
       "       'Vasanth P', 'Aditya ', 'Amersh ', 'Sandipan Saha',\n",
       "       'Ineuron Intelligence ', 'Mahak ', 'Mukesh Rao ', 'Zeeshan ',\n",
       "       'Anurag Tiwari', 'Ankitjha ', 'Saif Khan', 'Jaydeep Dixit',\n",
       "       'Sudhanshu Kumar', 'Maneesh ', 'Hyder Abbas', 'Rohan ', 'Vivek ',\n",
       "       'Nitin M', 'Shivan_S ', 'Spuri ', 'Ayushi Mishra',\n",
       "       'Chaitra K Hiremath', 'Prateek _iot ', 'Jawala Prakash',\n",
       "       'Sowmiya Sivakumar', 'Nishtha Jain', 'Swati ', 'Khushboo Priya',\n",
       "       'Shubham Sharma', 'Manjunatha A', 'Ameya Jain',\n",
       "       'Harikrishnan Shaji', 'Saikumarreddy N', 'Sanjeev Kumar',\n",
       "       'Mukesh ', 'Hrisikesh Neogi', 'Mithun S', 'Prerna Singh',\n",
       "       'Suraj S Bilgi', 'Shivan K', 'Mahesh Sarade', 'Madhulika G',\n",
       "       'Boktiar Ahmed Bappy', 'Deepranjan Gupta', 'Ishawant Kumar',\n",
       "       'Shivananda Sonwane'], dtype=object)"
      ]
     },
     "execution_count": 16,
     "metadata": {},
     "output_type": "execute_result"
    }
   ],
   "source": [
    "#Agent name who have rating lesss then 3.5\n",
    "d[d['Average Rating'] <3.5]['Agent Name'].unique()"
   ]
  },
  {
   "cell_type": "code",
   "execution_count": 17,
   "id": "fa7dc816",
   "metadata": {},
   "outputs": [
    {
     "data": {
      "text/plain": [
       "array(['Ameya Jain', 'Mahesh Sarade', 'Mukesh ', 'Saikumarreddy N',\n",
       "       'Sanjeev Kumar', 'Harikrishnan Shaji', 'Sowmiya Sivakumar',\n",
       "       'Boktiar Ahmed Bappy', 'Shivananda Sonwane', 'Ishawant Kumar',\n",
       "       'Deepranjan Gupta', 'Muskan Garg', 'Aditya_iot ',\n",
       "       'Chaitra K Hiremath', 'Suraj S Bilgi', 'Mithun S', 'Wasim ',\n",
       "       'Bharath ', 'Jawala Prakash', 'Ayushi Mishra', 'Prateek _iot ',\n",
       "       'Nandani Gupta', 'Khushboo Priya', 'Manjunatha A', 'Maitry ',\n",
       "       'Jaydeep Dixit', 'Madhulika G', 'Prerna Singh', 'Shivan K',\n",
       "       'Shiva Srivastava', 'Swati ', 'Shubham Sharma', 'Aravind ',\n",
       "       'Zeeshan ', 'Hrisikesh Neogi', 'Prabir Kumar Satapathy',\n",
       "       'Rishav Dash', 'Sudhanshu Kumar', 'Aditya Shinde', 'Sandipan Saha',\n",
       "       'Nishtha Jain', 'Saurabh Shukla', 'Anirudh ', 'Jayant Kumar',\n",
       "       'Mukesh Rao ', 'Vivek ', 'Ankitjha '], dtype=object)"
      ]
     },
     "execution_count": 17,
     "metadata": {},
     "output_type": "execute_result"
    }
   ],
   "source": [
    "#agent name who have rating more then 4.5\n",
    "d[d['Average Rating'] >4.5]['Agent Name'].unique()"
   ]
  },
  {
   "cell_type": "code",
   "execution_count": 18,
   "id": "bcdfe226",
   "metadata": {
    "scrolled": true
   },
   "outputs": [
    {
     "data": {
      "text/plain": [
       "array(['Ameya Jain', 'Mahesh Sarade', 'Mukesh ', 'Saikumarreddy N',\n",
       "       'Sanjeev Kumar', 'Harikrishnan Shaji', 'Sowmiya Sivakumar',\n",
       "       'Boktiar Ahmed Bappy', 'Shivananda Sonwane', 'Ishawant Kumar',\n",
       "       'Deepranjan Gupta', 'Muskan Garg', 'Aditya_iot ',\n",
       "       'Chaitra K Hiremath', 'Suraj S Bilgi', 'Mithun S', 'Wasim ',\n",
       "       'Bharath ', 'Jawala Prakash', 'Ayushi Mishra', 'Prateek _iot ',\n",
       "       'Nandani Gupta', 'Khushboo Priya', 'Manjunatha A', 'Maitry ',\n",
       "       'Jaydeep Dixit', 'Madhulika G', 'Prerna Singh', 'Shivan K',\n",
       "       'Shiva Srivastava', 'Swati ', 'Shubham Sharma', 'Aravind ',\n",
       "       'Zeeshan ', 'Hrisikesh Neogi', 'Prabir Kumar Satapathy',\n",
       "       'Rishav Dash', 'Sudhanshu Kumar', 'Aditya Shinde', 'Sandipan Saha',\n",
       "       'Nishtha Jain', 'Saurabh Shukla', 'Anirudh ', 'Jayant Kumar',\n",
       "       'Mukesh Rao ', 'Vivek ', 'Ankitjha '], dtype=object)"
      ]
     },
     "execution_count": 18,
     "metadata": {},
     "output_type": "execute_result"
    }
   ],
   "source": [
    "#how many feedaback agents have received more then 4.5 average\n",
    "d[(d['Total Feedback'] !=0) & (d['Average Rating'] >4.5)]['Agent Name'].unique()"
   ]
  },
  {
   "cell_type": "code",
   "execution_count": 19,
   "id": "b39bfc10",
   "metadata": {},
   "outputs": [],
   "source": [
    "\n",
    "def fn(a):\n",
    "    \n",
    "    j = int(a[0])*(3600)+(int(a[2])*10+int(a[3])*1)*60+(int(a[5])*10+int(a[6])*1)\n",
    "    return j\n"
   ]
  },
  {
   "cell_type": "code",
   "execution_count": 20,
   "id": "c2027391",
   "metadata": {},
   "outputs": [
    {
     "data": {
      "text/html": [
       "<div>\n",
       "<style scoped>\n",
       "    .dataframe tbody tr th:only-of-type {\n",
       "        vertical-align: middle;\n",
       "    }\n",
       "\n",
       "    .dataframe tbody tr th {\n",
       "        vertical-align: top;\n",
       "    }\n",
       "\n",
       "    .dataframe thead th {\n",
       "        text-align: right;\n",
       "    }\n",
       "</style>\n",
       "<table border=\"1\" class=\"dataframe\">\n",
       "  <thead>\n",
       "    <tr style=\"text-align: right;\">\n",
       "      <th></th>\n",
       "      <th>SL No</th>\n",
       "      <th>Date</th>\n",
       "      <th>Agent Name</th>\n",
       "      <th>Total Chats</th>\n",
       "      <th>Average Response Time</th>\n",
       "      <th>Average Resolution Time</th>\n",
       "      <th>Average Rating</th>\n",
       "      <th>Total Feedback</th>\n",
       "      <th>weeks</th>\n",
       "    </tr>\n",
       "  </thead>\n",
       "  <tbody>\n",
       "    <tr>\n",
       "      <th>0</th>\n",
       "      <td>1</td>\n",
       "      <td>2022-07-30</td>\n",
       "      <td>Prerna Singh</td>\n",
       "      <td>11</td>\n",
       "      <td>0:00:38</td>\n",
       "      <td>0:04:20</td>\n",
       "      <td>4.11</td>\n",
       "      <td>9</td>\n",
       "      <td>30</td>\n",
       "    </tr>\n",
       "    <tr>\n",
       "      <th>1</th>\n",
       "      <td>2</td>\n",
       "      <td>2022-07-30</td>\n",
       "      <td>Nandani Gupta</td>\n",
       "      <td>11</td>\n",
       "      <td>0:01:15</td>\n",
       "      <td>0:28:25</td>\n",
       "      <td>3.14</td>\n",
       "      <td>7</td>\n",
       "      <td>30</td>\n",
       "    </tr>\n",
       "    <tr>\n",
       "      <th>2</th>\n",
       "      <td>3</td>\n",
       "      <td>2022-07-30</td>\n",
       "      <td>Ameya Jain</td>\n",
       "      <td>14</td>\n",
       "      <td>0:00:30</td>\n",
       "      <td>0:11:36</td>\n",
       "      <td>4.55</td>\n",
       "      <td>11</td>\n",
       "      <td>30</td>\n",
       "    </tr>\n",
       "    <tr>\n",
       "      <th>3</th>\n",
       "      <td>4</td>\n",
       "      <td>2022-07-30</td>\n",
       "      <td>Mahesh Sarade</td>\n",
       "      <td>14</td>\n",
       "      <td>0:01:04</td>\n",
       "      <td>0:15:46</td>\n",
       "      <td>4.71</td>\n",
       "      <td>7</td>\n",
       "      <td>30</td>\n",
       "    </tr>\n",
       "    <tr>\n",
       "      <th>4</th>\n",
       "      <td>5</td>\n",
       "      <td>2022-07-30</td>\n",
       "      <td>Swati</td>\n",
       "      <td>14</td>\n",
       "      <td>0:01:11</td>\n",
       "      <td>0:16:33</td>\n",
       "      <td>3.67</td>\n",
       "      <td>6</td>\n",
       "      <td>30</td>\n",
       "    </tr>\n",
       "    <tr>\n",
       "      <th>...</th>\n",
       "      <td>...</td>\n",
       "      <td>...</td>\n",
       "      <td>...</td>\n",
       "      <td>...</td>\n",
       "      <td>...</td>\n",
       "      <td>...</td>\n",
       "      <td>...</td>\n",
       "      <td>...</td>\n",
       "      <td>...</td>\n",
       "    </tr>\n",
       "    <tr>\n",
       "      <th>2155</th>\n",
       "      <td>2156</td>\n",
       "      <td>2022-07-01</td>\n",
       "      <td>Sowmiya Sivakumar</td>\n",
       "      <td>0</td>\n",
       "      <td>0:00:00</td>\n",
       "      <td>0:00:00</td>\n",
       "      <td>0.00</td>\n",
       "      <td>0</td>\n",
       "      <td>26</td>\n",
       "    </tr>\n",
       "    <tr>\n",
       "      <th>2156</th>\n",
       "      <td>2157</td>\n",
       "      <td>2022-07-01</td>\n",
       "      <td>Nitin M</td>\n",
       "      <td>0</td>\n",
       "      <td>0:00:00</td>\n",
       "      <td>0:00:00</td>\n",
       "      <td>0.00</td>\n",
       "      <td>0</td>\n",
       "      <td>26</td>\n",
       "    </tr>\n",
       "    <tr>\n",
       "      <th>2157</th>\n",
       "      <td>2158</td>\n",
       "      <td>2022-07-01</td>\n",
       "      <td>Vivek</td>\n",
       "      <td>0</td>\n",
       "      <td>0:00:00</td>\n",
       "      <td>0:00:00</td>\n",
       "      <td>0.00</td>\n",
       "      <td>0</td>\n",
       "      <td>26</td>\n",
       "    </tr>\n",
       "    <tr>\n",
       "      <th>2158</th>\n",
       "      <td>2159</td>\n",
       "      <td>2022-07-01</td>\n",
       "      <td>Ayushi Mishra</td>\n",
       "      <td>0</td>\n",
       "      <td>0:00:00</td>\n",
       "      <td>0:00:00</td>\n",
       "      <td>0.00</td>\n",
       "      <td>0</td>\n",
       "      <td>26</td>\n",
       "    </tr>\n",
       "    <tr>\n",
       "      <th>2159</th>\n",
       "      <td>2160</td>\n",
       "      <td>2022-07-01</td>\n",
       "      <td>Chaitra K Hiremath</td>\n",
       "      <td>0</td>\n",
       "      <td>0:00:00</td>\n",
       "      <td>0:00:00</td>\n",
       "      <td>0.00</td>\n",
       "      <td>0</td>\n",
       "      <td>26</td>\n",
       "    </tr>\n",
       "  </tbody>\n",
       "</table>\n",
       "<p>2160 rows × 9 columns</p>\n",
       "</div>"
      ],
      "text/plain": [
       "      SL No       Date          Agent Name  Total Chats Average Response Time  \\\n",
       "0         1 2022-07-30        Prerna Singh           11               0:00:38   \n",
       "1         2 2022-07-30       Nandani Gupta           11               0:01:15   \n",
       "2         3 2022-07-30          Ameya Jain           14               0:00:30   \n",
       "3         4 2022-07-30       Mahesh Sarade           14               0:01:04   \n",
       "4         5 2022-07-30              Swati            14               0:01:11   \n",
       "...     ...        ...                 ...          ...                   ...   \n",
       "2155   2156 2022-07-01   Sowmiya Sivakumar            0               0:00:00   \n",
       "2156   2157 2022-07-01             Nitin M            0               0:00:00   \n",
       "2157   2158 2022-07-01              Vivek             0               0:00:00   \n",
       "2158   2159 2022-07-01       Ayushi Mishra            0               0:00:00   \n",
       "2159   2160 2022-07-01  Chaitra K Hiremath            0               0:00:00   \n",
       "\n",
       "     Average Resolution Time  Average Rating  Total Feedback  weeks  \n",
       "0                    0:04:20            4.11               9     30  \n",
       "1                    0:28:25            3.14               7     30  \n",
       "2                    0:11:36            4.55              11     30  \n",
       "3                    0:15:46            4.71               7     30  \n",
       "4                    0:16:33            3.67               6     30  \n",
       "...                      ...             ...             ...    ...  \n",
       "2155                 0:00:00            0.00               0     26  \n",
       "2156                 0:00:00            0.00               0     26  \n",
       "2157                 0:00:00            0.00               0     26  \n",
       "2158                 0:00:00            0.00               0     26  \n",
       "2159                 0:00:00            0.00               0     26  \n",
       "\n",
       "[2160 rows x 9 columns]"
      ]
     },
     "execution_count": 20,
     "metadata": {},
     "output_type": "execute_result"
    }
   ],
   "source": [
    "d"
   ]
  },
  {
   "cell_type": "code",
   "execution_count": 21,
   "id": "63a0abb4",
   "metadata": {},
   "outputs": [],
   "source": [
    "#average weekly response time for each agent \n",
    "d['Average Response_in_sec']=d['Average Response Time'].apply(fn)"
   ]
  },
  {
   "cell_type": "code",
   "execution_count": 22,
   "id": "ac3b37a7",
   "metadata": {},
   "outputs": [],
   "source": [
    "h=d[d['Average Response_in_sec'] != 0]"
   ]
  },
  {
   "cell_type": "code",
   "execution_count": 23,
   "id": "141ccb58",
   "metadata": {},
   "outputs": [
    {
     "data": {
      "text/plain": [
       "weeks  Agent Name         \n",
       "26     Aditya Shinde          83.000000\n",
       "       Ayushi Mishra          85.500000\n",
       "       Bharath                42.000000\n",
       "       Boktiar Ahmed Bappy    60.333333\n",
       "       Deepranjan Gupta       67.000000\n",
       "                                ...    \n",
       "30     Sowmiya Sivakumar      72.400000\n",
       "       Suraj S Bilgi          91.000000\n",
       "       Swati                  87.000000\n",
       "       Wasim                  60.600000\n",
       "       Zeeshan                95.750000\n",
       "Name: Average Response_in_sec, Length: 176, dtype: float64"
      ]
     },
     "execution_count": 23,
     "metadata": {},
     "output_type": "execute_result"
    }
   ],
   "source": [
    "h.groupby(['weeks','Agent Name'])['Average Response_in_sec'].mean()"
   ]
  },
  {
   "cell_type": "code",
   "execution_count": 24,
   "id": "c0ab1f4e",
   "metadata": {},
   "outputs": [],
   "source": [
    "#average weekely resolution time for each agents\n",
    "d['Average Resolution Time_in_secs']=d['Average Resolution Time'].apply(fn)"
   ]
  },
  {
   "cell_type": "code",
   "execution_count": 25,
   "id": "54c119ca",
   "metadata": {},
   "outputs": [],
   "source": [
    "df=d[d['Average Resolution Time_in_secs'] !=0]"
   ]
  },
  {
   "cell_type": "code",
   "execution_count": 26,
   "id": "6a551e45",
   "metadata": {},
   "outputs": [
    {
     "data": {
      "text/plain": [
       "Agent Name     weeks\n",
       "Aditya Shinde  26       1390.50\n",
       "               27       1265.40\n",
       "               28       1902.20\n",
       "Aditya_iot     27       1084.50\n",
       "               28       1275.40\n",
       "                         ...   \n",
       "Wasim          30       1265.80\n",
       "Zeeshan        27       1130.50\n",
       "               28       1378.00\n",
       "               29       1112.00\n",
       "               30       1160.25\n",
       "Name: Average Resolution Time_in_secs, Length: 182, dtype: float64"
      ]
     },
     "execution_count": 26,
     "metadata": {},
     "output_type": "execute_result"
    }
   ],
   "source": [
    "df.groupby(['Agent Name','weeks'])['Average Resolution Time_in_secs'].mean()"
   ]
  },
  {
   "cell_type": "code",
   "execution_count": 27,
   "id": "15e6acbc",
   "metadata": {},
   "outputs": [],
   "source": [
    "#list of all agents name\n",
    "d1 = p.read_csv('AgentLogingReport.csv')"
   ]
  },
  {
   "cell_type": "code",
   "execution_count": 28,
   "id": "aacff24f",
   "metadata": {},
   "outputs": [
    {
     "data": {
      "text/plain": [
       "49"
      ]
     },
     "execution_count": 28,
     "metadata": {},
     "output_type": "execute_result"
    }
   ],
   "source": [
    "len(d1['Agent'].unique())"
   ]
  },
  {
   "cell_type": "code",
   "execution_count": 29,
   "id": "3989d9ab",
   "metadata": {},
   "outputs": [
    {
     "data": {
      "text/plain": [
       "70"
      ]
     },
     "execution_count": 29,
     "metadata": {},
     "output_type": "execute_result"
    }
   ],
   "source": [
    "len(d['Agent Name'].unique())"
   ]
  },
  {
   "cell_type": "code",
   "execution_count": 30,
   "id": "ef3448c8",
   "metadata": {},
   "outputs": [
    {
     "data": {
      "text/plain": [
       "'To calculate the percentage We have to calculate the (feedback recieved /total chats)*100'"
      ]
     },
     "execution_count": 30,
     "metadata": {},
     "output_type": "execute_result"
    }
   ],
   "source": [
    "#percentage of chat on which they have received a feedback \n",
    "\"\"\"To calculate the percentage We have to calculate the (feedback recieved /total chats)*100\"\"\""
   ]
  },
  {
   "cell_type": "code",
   "execution_count": 31,
   "id": "1f08b301",
   "metadata": {},
   "outputs": [],
   "source": [
    "w= d[d['Total Chats'] != 0] #here we removing those rows where there is no chat means that it removes those are are on leave or there is leave"
   ]
  },
  {
   "cell_type": "code",
   "execution_count": 32,
   "id": "5d45cb19",
   "metadata": {
    "scrolled": true
   },
   "outputs": [
    {
     "data": {
      "text/plain": [
       "Agent Name\n",
       "Aditya Shinde             12\n",
       "Aditya_iot                17\n",
       "Ameya Jain                15\n",
       "Anirudh                    7\n",
       "Ankitjha                   3\n",
       "Anurag Tiwari              2\n",
       "Aravind                   14\n",
       "Ashad Nasim                2\n",
       "Ayushi Mishra             24\n",
       "Bharath                   19\n",
       "Boktiar Ahmed Bappy       26\n",
       "Chaitra K Hiremath         6\n",
       "Deepranjan Gupta          21\n",
       "Dibyanshu                  1\n",
       "Harikrishnan Shaji        19\n",
       "Hitesh Choudhary           1\n",
       "Hrisikesh Neogi           21\n",
       "Ishawant Kumar            24\n",
       "Jawala Prakash            25\n",
       "Jayant Kumar               8\n",
       "Jaydeep Dixit             21\n",
       "Khushboo Priya            26\n",
       "Madhulika G               24\n",
       "Mahak                      1\n",
       "Mahesh Sarade             18\n",
       "Maitry                    20\n",
       "Maneesh                    3\n",
       "Manjunatha A              25\n",
       "Mithun S                  18\n",
       "Mukesh                     2\n",
       "Mukesh Rao                 3\n",
       "Muskan Garg                5\n",
       "Nandani Gupta             21\n",
       "Nishtha Jain              23\n",
       "Prabir Kumar Satapathy    17\n",
       "Prateek _iot              17\n",
       "Prerna Singh              22\n",
       "Rishav Dash               21\n",
       "Saikumarreddy N           13\n",
       "Samprit                    1\n",
       "Sandipan Saha              3\n",
       "Sanjeev Kumar             23\n",
       "Saurabh Shukla             4\n",
       "Shiva Srivastava           7\n",
       "Shivan K                  22\n",
       "Shivan_S                   1\n",
       "Shivananda Sonwane        28\n",
       "Shubham Sharma            21\n",
       "Sowmiya Sivakumar          9\n",
       "Sudhanshu Kumar            2\n",
       "Suraj S Bilgi              2\n",
       "Swati                     17\n",
       "Tarun                      1\n",
       "Vivek                      5\n",
       "Wasim                     16\n",
       "Zeeshan                   16\n",
       "Name: Total Chats, dtype: int64"
      ]
     },
     "execution_count": 32,
     "metadata": {},
     "output_type": "execute_result"
    }
   ],
   "source": [
    "w.groupby('Agent Name')['Total Chats'].count() #here we count the total chat we have total chats gruop by name"
   ]
  },
  {
   "cell_type": "code",
   "execution_count": 33,
   "id": "48fc5336",
   "metadata": {},
   "outputs": [
    {
     "data": {
      "text/plain": [
       "Agent Name\n",
       "Aditya Shinde             12\n",
       "Aditya_iot                17\n",
       "Ameya Jain                15\n",
       "Anirudh                    6\n",
       "Ankitjha                   2\n",
       "Anurag Tiwari              2\n",
       "Aravind                   14\n",
       "Ashad Nasim                2\n",
       "Ayushi Mishra             24\n",
       "Bharath                   19\n",
       "Boktiar Ahmed Bappy       25\n",
       "Chaitra K Hiremath         6\n",
       "Deepranjan Gupta          20\n",
       "Harikrishnan Shaji        19\n",
       "Hrisikesh Neogi           21\n",
       "Ishawant Kumar            24\n",
       "Jawala Prakash            25\n",
       "Jayant Kumar               8\n",
       "Jaydeep Dixit             21\n",
       "Khushboo Priya            25\n",
       "Madhulika G               24\n",
       "Mahak                      1\n",
       "Mahesh Sarade             18\n",
       "Maitry                    20\n",
       "Maneesh                    2\n",
       "Manjunatha A              24\n",
       "Mithun S                  18\n",
       "Mukesh                     2\n",
       "Mukesh Rao                 3\n",
       "Muskan Garg                5\n",
       "Nandani Gupta             21\n",
       "Nishtha Jain              23\n",
       "Prabir Kumar Satapathy    17\n",
       "Prateek _iot              16\n",
       "Prerna Singh              22\n",
       "Rishav Dash               20\n",
       "Saikumarreddy N           13\n",
       "Sandipan Saha              3\n",
       "Sanjeev Kumar             23\n",
       "Saurabh Shukla             4\n",
       "Shiva Srivastava           7\n",
       "Shivan K                  20\n",
       "Shivan_S                   1\n",
       "Shivananda Sonwane        28\n",
       "Shubham Sharma            21\n",
       "Sowmiya Sivakumar          9\n",
       "Sudhanshu Kumar            2\n",
       "Suraj S Bilgi              2\n",
       "Swati                     17\n",
       "Tarun                      1\n",
       "Vivek                      5\n",
       "Wasim                     16\n",
       "Zeeshan                   16\n",
       "Name: Total Feedback, dtype: int64"
      ]
     },
     "execution_count": 33,
     "metadata": {},
     "output_type": "execute_result"
    }
   ],
   "source": [
    "w[w['Total Feedback'] != 0].groupby('Agent Name')['Total Feedback'].count() #here we count feedback recieved from total cha group name"
   ]
  },
  {
   "cell_type": "code",
   "execution_count": 34,
   "id": "c67211ff",
   "metadata": {},
   "outputs": [
    {
     "data": {
      "text/plain": [
       "'We caculating the percentagage'"
      ]
     },
     "execution_count": 34,
     "metadata": {},
     "output_type": "execute_result"
    }
   ],
   "source": [
    "w[w['Total Feedback'] != 0].groupby('Agent Name')['Total Feedback'].count()/w.groupby('Agent Name')['Total Chats'].count() *100\n",
    "\"\"\"We caculating the percentagage\"\"\""
   ]
  },
  {
   "cell_type": "code",
   "execution_count": 35,
   "id": "d355e679",
   "metadata": {},
   "outputs": [],
   "source": [
    "#Total contributation hour for each and every agents weekly basis"
   ]
  },
  {
   "cell_type": "code",
   "execution_count": 36,
   "id": "46a83f5a",
   "metadata": {},
   "outputs": [],
   "source": [
    "d1['Date']=p.to_datetime(d1['Date'])"
   ]
  },
  {
   "cell_type": "code",
   "execution_count": 37,
   "id": "8d25244f",
   "metadata": {},
   "outputs": [
    {
     "name": "stderr",
     "output_type": "stream",
     "text": [
      "C:\\Users\\laptop\\AppData\\Local\\Temp/ipykernel_4356/4080059060.py:1: FutureWarning: Series.dt.weekofyear and Series.dt.week have been deprecated.  Please use Series.dt.isocalendar().week instead.\n",
      "  d1['weeks'] = d['Date'].dt.week\n"
     ]
    }
   ],
   "source": [
    "d1['weeks'] = d['Date'].dt.week"
   ]
  },
  {
   "cell_type": "code",
   "execution_count": 42,
   "id": "2e32e511",
   "metadata": {},
   "outputs": [],
   "source": [
    "d1['Duration_in_hours']=d1['Duration'].apply(fn)"
   ]
  },
  {
   "cell_type": "code",
   "execution_count": 41,
   "id": "f92239e4",
   "metadata": {},
   "outputs": [
    {
     "data": {
      "text/plain": [
       "'Through this we conver the duration into hours '"
      ]
     },
     "execution_count": 41,
     "metadata": {},
     "output_type": "execute_result"
    }
   ],
   "source": [
    "def fn(a):\n",
    "    if len(a)<=8:\n",
    "        j = (int(a[0])*10+int(a[1]))*(3600)+(int(a[3])*10+int(a[4])*1)*60+(int(a[6])*10+int(a[7])*1)\n",
    "        return j/3600\n",
    "    else:\n",
    "        j = (int(a[0])*100+int(a[1])*10+int(a[2]))*(3600)+(int(a[4])*10+int(a[5])*1)*60+(int(a[7])*10+int(a[8])*1)\n",
    "        return j/3600\n",
    "        \n",
    "\"\"\"Through this we conver the duration into hours \"\"\""
   ]
  },
  {
   "cell_type": "code",
   "execution_count": 43,
   "id": "2236c101",
   "metadata": {},
   "outputs": [
    {
     "data": {
      "text/plain": [
       "{('Aditya Shinde', 30): 0.03611111111111111,\n",
       " ('Aditya_iot', 28): 2.023888888888889,\n",
       " ('Aditya_iot', 29): 2.131944444444444,\n",
       " ('Aditya_iot', 30): 1.4622777777777778,\n",
       " ('Amersh', 30): 0.7659722222222222,\n",
       " ('Ameya Jain', 28): 6.595555555555555,\n",
       " ('Ameya Jain', 29): 3.3544444444444443,\n",
       " ('Ameya Jain', 30): 5.999444444444444,\n",
       " ('Ankitjha', 30): 0.5667361111111111,\n",
       " ('Anurag Tiwari', 28): 0.011111111111111112,\n",
       " ('Anurag Tiwari', 29): 0.07591666666666666,\n",
       " ('Anurag Tiwari', 30): 0.07725427350427351,\n",
       " ('Aravind', 28): 3.1951388888888888,\n",
       " ('Aravind', 29): 2.555674603174603,\n",
       " ('Aravind', 30): 0.019166666666666665,\n",
       " ('Ayushi Mishra', 29): 2.4279444444444445,\n",
       " ('Ayushi Mishra', 30): 1.7302777777777778,\n",
       " ('Bharath', 28): 6.0119444444444445,\n",
       " ('Bharath', 29): 4.8069444444444445,\n",
       " ('Bharath', 30): 6.010000000000001,\n",
       " ('Boktiar Ahmed Bappy', 29): 2.9392708333333335,\n",
       " ('Boktiar Ahmed Bappy', 30): 1.8616049382716051,\n",
       " ('Chaitra K Hiremath', 29): 2.7550000000000003,\n",
       " ('Chaitra K Hiremath', 30): 2.606055555555556,\n",
       " ('Deepranjan Gupta', 29): 1.9709201388888888,\n",
       " ('Deepranjan Gupta', 30): 1.6617628205128203,\n",
       " ('Dibyanshu', 28): 0.2944117647058824,\n",
       " ('Dibyanshu', 29): 0.2666182170542636,\n",
       " ('Dibyanshu', 30): 0.23487301587301587,\n",
       " ('Harikrishnan Shaji', 28): 2.080185185185185,\n",
       " ('Harikrishnan Shaji', 29): 2.437727272727273,\n",
       " ('Harikrishnan Shaji', 30): 2.2954629629629633,\n",
       " ('Hrisikesh Neogi', 28): 2.9402777777777778,\n",
       " ('Hrisikesh Neogi', 29): 1.6059477124183008,\n",
       " ('Hrisikesh Neogi', 30): 1.3548302469135802,\n",
       " ('Hyder Abbas', 29): 0.1940277777777778,\n",
       " ('Ineuron Intelligence', 28): 1.448611111111111,\n",
       " ('Ishawant Kumar', 28): 0.06875,\n",
       " ('Ishawant Kumar', 29): 1.5912777777777778,\n",
       " ('Ishawant Kumar', 30): 0.7871333333333334,\n",
       " ('Jawala Prakash', 29): 3.2902777777777774,\n",
       " ('Jawala Prakash', 30): 2.3985317460317463,\n",
       " ('Jaydeep Dixit', 29): 6.985740740740741,\n",
       " ('Jaydeep Dixit', 30): 3.5852222222222223,\n",
       " ('Khushboo Priya', 28): 2.983888888888889,\n",
       " ('Khushboo Priya', 29): 2.2688194444444445,\n",
       " ('Khushboo Priya', 30): 2.4300347222222225,\n",
       " ('Madhulika G', 28): 3.0054166666666666,\n",
       " ('Madhulika G', 29): 2.2481666666666666,\n",
       " ('Madhulika G', 30): 3.5135555555555555,\n",
       " ('Mahesh Sarade', 28): 6.655277777777778,\n",
       " ('Mahesh Sarade', 29): 2.325858585858586,\n",
       " ('Mahesh Sarade', 30): 0.4450925925925926,\n",
       " ('Maitry', 29): 6.164444444444444,\n",
       " ('Maitry', 30): 6.287222222222222,\n",
       " ('Manjunatha A', 28): 5.976944444444444,\n",
       " ('Manjunatha A', 29): 6.082962962962963,\n",
       " ('Manjunatha A', 30): 4.262222222222222,\n",
       " ('Mithun S', 28): 1.5208333333333333,\n",
       " ('Mithun S', 29): 3.3748412698412698,\n",
       " ('Mithun S', 30): 3.7016111111111116,\n",
       " ('Mukesh', 30): 2.9683333333333333,\n",
       " ('Muskan Garg', 29): 0.9106944444444445,\n",
       " ('Muskan Garg', 30): 2.5125,\n",
       " ('Nandani Gupta', 28): 5.97,\n",
       " ('Nandani Gupta', 29): 3.310925925925926,\n",
       " ('Nandani Gupta', 30): 3.584166666666667,\n",
       " ('Nishtha Jain', 28): 2.913194444444444,\n",
       " ('Nishtha Jain', 29): 2.7740277777777775,\n",
       " ('Nishtha Jain', 30): 1.9792708333333333,\n",
       " ('Nitin M', 29): 0.7988888888888889,\n",
       " ('Prabir Kumar Satapathy', 29): 1.0112222222222222,\n",
       " ('Prabir Kumar Satapathy', 30): 2.1921296296296293,\n",
       " ('Prateek _iot', 28): 1.1638888888888888,\n",
       " ('Prateek _iot', 29): 0.7950925925925927,\n",
       " ('Prateek _iot', 30): 1.4890740740740742,\n",
       " ('Prerna Singh', 28): 3.018194444444444,\n",
       " ('Prerna Singh', 29): 3.074444444444444,\n",
       " ('Prerna Singh', 30): 2.12325,\n",
       " ('Rishav Dash', 29): 2.8221944444444444,\n",
       " ('Rishav Dash', 30): 6.776805555555555,\n",
       " ('Saikumarreddy N', 28): 6.072222222222222,\n",
       " ('Saikumarreddy N', 29): 3.781666666666667,\n",
       " ('Saikumarreddy N', 30): 4.539236111111111,\n",
       " ('Sanjeev Kumar', 28): 6.0675,\n",
       " ('Sanjeev Kumar', 29): 1.9640384615384614,\n",
       " ('Sanjeev Kumar', 30): 2.1812037037037038,\n",
       " ('Saurabh Shukla', 28): 2.661574074074074,\n",
       " ('Saurabh Shukla', 29): 0.23454954954954954,\n",
       " ('Shiva Srivastava', 29): 0.5328055555555555,\n",
       " ('Shiva Srivastava', 30): 1.9332222222222222,\n",
       " ('Shivan K', 29): 1.0783194444444444,\n",
       " ('Shivan K', 30): 0.9084895833333333,\n",
       " ('Shivananda Sonwane', 29): 4.4816666666666665,\n",
       " ('Shivananda Sonwane', 30): 2.4886419753086417,\n",
       " ('Shubham Sharma', 28): 2.916111111111111,\n",
       " ('Shubham Sharma', 29): 1.3190277777777777,\n",
       " ('Shubham Sharma', 30): 1.8121604938271605,\n",
       " ('Sowmiya Sivakumar', 28): 6.963055555555556,\n",
       " ('Sowmiya Sivakumar', 29): 1.5208333333333333,\n",
       " ('Sowmiya Sivakumar', 30): 1.8020277777777778,\n",
       " ('Sudhanshu Kumar', 28): 7.824999999999999,\n",
       " ('Sudhanshu Kumar', 29): 1.4674537037037034,\n",
       " ('Sudhanshu Kumar', 30): 7.258796296296296,\n",
       " ('Suraj S Bilgi', 30): 2.511833333333333,\n",
       " ('Swati', 28): 6.171388888888889,\n",
       " ('Swati', 29): 4.707430555555556,\n",
       " ('Tarun', 28): 514.1388888888889,\n",
       " ('Wasim', 28): 2.6287037037037035,\n",
       " ('Wasim', 29): 1.6400213675213675,\n",
       " ('Wasim', 30): 4.743194444444445,\n",
       " ('Zeeshan', 28): 6.053055555555556,\n",
       " ('Zeeshan', 29): 4.119675925925926,\n",
       " ('Zeeshan', 30): 6.105833333333333}"
      ]
     },
     "execution_count": 43,
     "metadata": {},
     "output_type": "execute_result"
    }
   ],
   "source": [
    "dict(d1.groupby(['Agent','weeks'])['Duration_in_hours'].mean())"
   ]
  },
  {
   "cell_type": "code",
   "execution_count": 40,
   "id": "adda5dea",
   "metadata": {},
   "outputs": [],
   "source": [
    "#total percentage of active hour for a month"
   ]
  },
  {
   "cell_type": "code",
   "execution_count": 46,
   "id": "ebcbeeab",
   "metadata": {},
   "outputs": [
    {
     "data": {
      "text/html": [
       "<div>\n",
       "<style scoped>\n",
       "    .dataframe tbody tr th:only-of-type {\n",
       "        vertical-align: middle;\n",
       "    }\n",
       "\n",
       "    .dataframe tbody tr th {\n",
       "        vertical-align: top;\n",
       "    }\n",
       "\n",
       "    .dataframe thead th {\n",
       "        text-align: right;\n",
       "    }\n",
       "</style>\n",
       "<table border=\"1\" class=\"dataframe\">\n",
       "  <thead>\n",
       "    <tr style=\"text-align: right;\">\n",
       "      <th></th>\n",
       "      <th>SL No</th>\n",
       "      <th>Agent</th>\n",
       "      <th>Date</th>\n",
       "      <th>Login Time</th>\n",
       "      <th>Logout Time</th>\n",
       "      <th>Duration</th>\n",
       "      <th>weeks</th>\n",
       "      <th>Duration_in_hours</th>\n",
       "    </tr>\n",
       "  </thead>\n",
       "  <tbody>\n",
       "    <tr>\n",
       "      <th>0</th>\n",
       "      <td>1</td>\n",
       "      <td>Shivananda Sonwane</td>\n",
       "      <td>2022-07-30</td>\n",
       "      <td>15:35:29</td>\n",
       "      <td>17:39:39</td>\n",
       "      <td>02:04:10</td>\n",
       "      <td>30</td>\n",
       "      <td>2.069444</td>\n",
       "    </tr>\n",
       "    <tr>\n",
       "      <th>1</th>\n",
       "      <td>2</td>\n",
       "      <td>Khushboo Priya</td>\n",
       "      <td>2022-07-30</td>\n",
       "      <td>15:06:59</td>\n",
       "      <td>15:07:16</td>\n",
       "      <td>00:00:17</td>\n",
       "      <td>30</td>\n",
       "      <td>0.004722</td>\n",
       "    </tr>\n",
       "    <tr>\n",
       "      <th>2</th>\n",
       "      <td>3</td>\n",
       "      <td>Nandani Gupta</td>\n",
       "      <td>2022-07-30</td>\n",
       "      <td>15:04:24</td>\n",
       "      <td>17:31:07</td>\n",
       "      <td>02:26:42</td>\n",
       "      <td>30</td>\n",
       "      <td>2.445000</td>\n",
       "    </tr>\n",
       "    <tr>\n",
       "      <th>3</th>\n",
       "      <td>4</td>\n",
       "      <td>Hrisikesh Neogi</td>\n",
       "      <td>2022-07-30</td>\n",
       "      <td>14:34:29</td>\n",
       "      <td>15:19:35</td>\n",
       "      <td>00:45:06</td>\n",
       "      <td>30</td>\n",
       "      <td>0.751667</td>\n",
       "    </tr>\n",
       "    <tr>\n",
       "      <th>4</th>\n",
       "      <td>5</td>\n",
       "      <td>Mukesh</td>\n",
       "      <td>2022-07-30</td>\n",
       "      <td>14:03:15</td>\n",
       "      <td>15:11:52</td>\n",
       "      <td>01:08:36</td>\n",
       "      <td>30</td>\n",
       "      <td>1.143333</td>\n",
       "    </tr>\n",
       "    <tr>\n",
       "      <th>...</th>\n",
       "      <td>...</td>\n",
       "      <td>...</td>\n",
       "      <td>...</td>\n",
       "      <td>...</td>\n",
       "      <td>...</td>\n",
       "      <td>...</td>\n",
       "      <td>...</td>\n",
       "      <td>...</td>\n",
       "    </tr>\n",
       "    <tr>\n",
       "      <th>995</th>\n",
       "      <td>996</td>\n",
       "      <td>Manjunatha A</td>\n",
       "      <td>2022-07-20</td>\n",
       "      <td>09:03:51</td>\n",
       "      <td>15:02:28</td>\n",
       "      <td>05:58:37</td>\n",
       "      <td>28</td>\n",
       "      <td>5.976944</td>\n",
       "    </tr>\n",
       "    <tr>\n",
       "      <th>996</th>\n",
       "      <td>997</td>\n",
       "      <td>Bharath</td>\n",
       "      <td>2022-07-20</td>\n",
       "      <td>09:00:49</td>\n",
       "      <td>15:01:32</td>\n",
       "      <td>06:00:43</td>\n",
       "      <td>28</td>\n",
       "      <td>6.011944</td>\n",
       "    </tr>\n",
       "    <tr>\n",
       "      <th>997</th>\n",
       "      <td>998</td>\n",
       "      <td>Khushboo Priya</td>\n",
       "      <td>2022-07-20</td>\n",
       "      <td>08:59:20</td>\n",
       "      <td>14:26:55</td>\n",
       "      <td>05:27:34</td>\n",
       "      <td>28</td>\n",
       "      <td>5.459444</td>\n",
       "    </tr>\n",
       "    <tr>\n",
       "      <th>998</th>\n",
       "      <td>999</td>\n",
       "      <td>Nishtha Jain</td>\n",
       "      <td>2022-07-20</td>\n",
       "      <td>08:43:55</td>\n",
       "      <td>14:00:33</td>\n",
       "      <td>05:16:38</td>\n",
       "      <td>28</td>\n",
       "      <td>5.277222</td>\n",
       "    </tr>\n",
       "    <tr>\n",
       "      <th>999</th>\n",
       "      <td>1000</td>\n",
       "      <td>Tarun</td>\n",
       "      <td>2022-07-01</td>\n",
       "      <td>01:52:47</td>\n",
       "      <td>12:01:07</td>\n",
       "      <td>514:08:20</td>\n",
       "      <td>28</td>\n",
       "      <td>514.138889</td>\n",
       "    </tr>\n",
       "  </tbody>\n",
       "</table>\n",
       "<p>1000 rows × 8 columns</p>\n",
       "</div>"
      ],
      "text/plain": [
       "     SL No               Agent       Date Login Time Logout Time   Duration  \\\n",
       "0        1  Shivananda Sonwane 2022-07-30   15:35:29    17:39:39   02:04:10   \n",
       "1        2      Khushboo Priya 2022-07-30   15:06:59    15:07:16   00:00:17   \n",
       "2        3       Nandani Gupta 2022-07-30   15:04:24    17:31:07   02:26:42   \n",
       "3        4     Hrisikesh Neogi 2022-07-30   14:34:29    15:19:35   00:45:06   \n",
       "4        5              Mukesh 2022-07-30   14:03:15    15:11:52   01:08:36   \n",
       "..     ...                 ...        ...        ...         ...        ...   \n",
       "995    996        Manjunatha A 2022-07-20   09:03:51    15:02:28   05:58:37   \n",
       "996    997             Bharath 2022-07-20   09:00:49    15:01:32   06:00:43   \n",
       "997    998      Khushboo Priya 2022-07-20   08:59:20    14:26:55   05:27:34   \n",
       "998    999        Nishtha Jain 2022-07-20   08:43:55    14:00:33   05:16:38   \n",
       "999   1000               Tarun 2022-07-01   01:52:47    12:01:07  514:08:20   \n",
       "\n",
       "     weeks  Duration_in_hours  \n",
       "0       30           2.069444  \n",
       "1       30           0.004722  \n",
       "2       30           2.445000  \n",
       "3       30           0.751667  \n",
       "4       30           1.143333  \n",
       "..     ...                ...  \n",
       "995     28           5.976944  \n",
       "996     28           6.011944  \n",
       "997     28           5.459444  \n",
       "998     28           5.277222  \n",
       "999     28         514.138889  \n",
       "\n",
       "[1000 rows x 8 columns]"
      ]
     },
     "execution_count": 46,
     "metadata": {},
     "output_type": "execute_result"
    }
   ],
   "source": [
    "d1"
   ]
  },
  {
   "cell_type": "code",
   "execution_count": null,
   "id": "0fbd887c",
   "metadata": {},
   "outputs": [],
   "source": []
  }
 ],
 "metadata": {
  "kernelspec": {
   "display_name": "Python 3 (ipykernel)",
   "language": "python",
   "name": "python3"
  },
  "language_info": {
   "codemirror_mode": {
    "name": "ipython",
    "version": 3
   },
   "file_extension": ".py",
   "mimetype": "text/x-python",
   "name": "python",
   "nbconvert_exporter": "python",
   "pygments_lexer": "ipython3",
   "version": "3.9.7"
  }
 },
 "nbformat": 4,
 "nbformat_minor": 5
}
